{
 "cells": [
  {
   "cell_type": "markdown",
   "id": "cf56c67a",
   "metadata": {},
   "source": [
    "# Metódos Númericos"
   ]
  },
  {
   "cell_type": "code",
   "execution_count": 1,
   "id": "c59ec809",
   "metadata": {},
   "outputs": [
    {
     "name": "stdout",
     "output_type": "stream",
     "text": [
      "k |     xm     |  |bk - ak|  |   f(xm)   |\n",
      " 1 |   0.500000 |   1.000000 |  -1.375000\n",
      " 2 |   0.250000 |   0.500000 |   0.765625\n",
      " 3 |   0.375000 |   0.250000 |  -0.322266\n",
      " 4 |   0.312500 |   0.125000 |   0.218018\n",
      " 5 |   0.343750 |   0.062500 |  -0.053131\n",
      " 6 |   0.328125 |   0.031250 |   0.082203\n",
      " 7 |   0.335938 |   0.015625 |   0.014474\n",
      " 8 |   0.339844 |   0.007812 |  -0.019344\n",
      " 9 |   0.337891 |   0.003906 |  -0.002439\n",
      "10 |   0.336914 |   0.001953 |   0.006017\n",
      "11 |   0.337402 |   0.000977 |   0.001789\n",
      "12 |   0.337646 |   0.000488 |  -0.000325\n",
      "13 |   0.337524 |   0.000244 |   0.000732\n",
      "14 |   0.337585 |   0.000122 |   0.000204\n",
      "15 |   0.337616 |   0.000061 |  -0.000061\n",
      "16 |   0.337601 |   0.000031 |   0.000071\n",
      "17 |   0.337608 |   0.000015 |   0.000005\n",
      "\n",
      "Aproximadamente: 0.337608 é a raiz, com 17 iterações.\n"
     ]
    }
   ],
   "source": [
    "# Metódos númericos\n",
    "#Bisseção\n",
    "\n",
    "#Função polinomial\n",
    "def f(x):\n",
    "    return x**3 - 9*x + 3\n",
    "\n",
    "def bissecao(ak, bk, epsilon1=1e-5, epsilon2=1e-5, nMax=100):\n",
    "    k = 0\n",
    "    xm = 0.5 * (ak + bk)\n",
    "\n",
    "    print(\"k |     xm     |  |bk - ak|  |   f(xm)   |\")\n",
    "    \n",
    "    while (k < nMax) and (abs(bk - ak) > epsilon1) and (abs(f(xm)) > epsilon2):\n",
    "        xm = 0.5 * (ak + bk)\n",
    "        k += 1\n",
    "        print(f\"{k:2d} | {xm:10.6f} | {abs(bk - ak):10.6f} | {f(xm):10.6f}\")\n",
    "        \n",
    "        if f(ak) * f(xm) < 0:\n",
    "            bk = xm\n",
    "        else:\n",
    "            ak = xm\n",
    "\n",
    "    print(f\"\\nAproximadamente: {xm:.6f} é a raiz, com {k} iterações.\")\n",
    "\n",
    "#Testando o metódo\n",
    "bissecao(0.0, 1.0)\n"
   ]
  },
  {
   "cell_type": "code",
   "execution_count": null,
   "id": "32978666",
   "metadata": {},
   "outputs": [],
   "source": []
  }
 ],
 "metadata": {
  "kernelspec": {
   "display_name": ".venv",
   "language": "python",
   "name": "python3"
  },
  "language_info": {
   "codemirror_mode": {
    "name": "ipython",
    "version": 3
   },
   "file_extension": ".py",
   "mimetype": "text/x-python",
   "name": "python",
   "nbconvert_exporter": "python",
   "pygments_lexer": "ipython3",
   "version": "3.12.3"
  }
 },
 "nbformat": 4,
 "nbformat_minor": 5
}
