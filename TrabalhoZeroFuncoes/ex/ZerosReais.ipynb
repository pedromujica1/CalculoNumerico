{
 "cells": [
  {
   "cell_type": "markdown",
   "id": "97cbc8ef",
   "metadata": {},
   "source": [
    "# Trabalho 1 (Zero de funçôes)"
   ]
  },
  {
   "cell_type": "markdown",
   "id": "5c7b35f6",
   "metadata": {},
   "source": [
    "- Escreva precisa e acuradamente os passos necessários para responder corretamente as questões,\n",
    "justificando e discutindo os argumentos ou métodos empregados para resolver cada item. As\n",
    "interpretações delas é parte integrante não são aceitas apenas as respostas, sendo necessário o\n",
    "desenvolvimento solicitado.\n",
    "- Os relatórios deverão ser entregues em documento em formato .pdf, não sendo aceitos outros\n",
    "padrões. O documento deve conter respostas às questões que sejam objetivamente\n",
    "identificáveis, e que estejam legíveis e organizadas. Pode-se copiar as saídas no console do Scilab\n",
    "para inserir as respostas se e quando for o caso. Os códigos fontes devem ser enviados com o\n",
    "arquivo no modo. compactado identificado como “TRAB1-ZEROS-Gi-Pj.zip(ou rar)”.\n",
    "- Para o cálculo de derivadas utilize, querendo, o software da Wolframalpha (Mathematica)\n",
    "https://www.wolframalpha.com/input?i=derivative"
   ]
  },
  {
   "cell_type": "markdown",
   "id": "619009cc",
   "metadata": {},
   "source": [
    "- 1) ANÁLISE POR INSPEÇÃO (DOS SINAIS) PARA DETERMINAR OS INTERVALOS CANDIDATOS\n",
    "- 2) GRÁFICO DA FUNÇÃO NO DOMÍNIO DE DEFINIÇÃO DA FUNÇÃO (TODO O INTERVALO)\n",
    "- 3) ANÁLISE TEÓRICA DA EXISTÊNCIA E UNICIDADE DA SOLUÇÃO NO INTERVALO ESCOLHIDO\n",
    "- 4) USO DOS MÉTODOS DE APROXIMAÇÃO DA: A) BISSECÇÃO, B) FALSA POSIÇÃO, C) NEWTON-RAPHSON, D) SECANTE\n",
    "- 5) VERIFICAÇÃO DA FUNÇÃO NA APROXIMAÇÃO OBTIDA"
   ]
  },
  {
   "cell_type": "markdown",
   "id": "aba34ff4",
   "metadata": {},
   "source": [
    "## Problema 1.1\n",
    "- 𝐟(𝐱) = 𝐱𝟐 − 𝟑 no intervalo [𝟏, 𝟐], com 𝛜 = 𝟏𝟎−𝟔.\n",
    "- g(𝐱) = 𝐱𝟐 + 𝐥𝐧(𝐱) no intervalo [𝟎, 𝟓; 𝟏], com 𝛜 = 𝟏𝟎−𝟓."
   ]
  },
  {
   "cell_type": "code",
   "execution_count": 1,
   "id": "b7572d2d",
   "metadata": {},
   "outputs": [
    {
     "name": "stdout",
     "output_type": "stream",
     "text": [
      "Método da Bisseção\n",
      "k | xm | abs(bk-ak) | f(xm)\n",
      " 1 |   1.500000 |   1.000000 |  -0.750000\n",
      " 2 |   1.750000 |   0.500000 |   0.062500\n",
      " 3 |   1.625000 |   0.250000 |  -0.359375\n",
      " 4 |   1.687500 |   0.125000 |  -0.152344\n",
      " 5 |   1.718750 |   0.062500 |  -0.045898\n",
      " 6 |   1.734375 |   0.031250 |   0.008057\n",
      " 7 |   1.726562 |   0.015625 |  -0.018982\n",
      " 8 |   1.730469 |   0.007812 |  -0.005478\n",
      " 9 |   1.732422 |   0.003906 |   0.001286\n",
      "10 |   1.731445 |   0.001953 |  -0.002097\n",
      "11 |   1.731934 |   0.000977 |  -0.000406\n",
      "12 |   1.732178 |   0.000488 |   0.000440\n",
      "13 |   1.732056 |   0.000244 |   0.000017\n",
      "14 |   1.731995 |   0.000122 |  -0.000195\n",
      "15 |   1.732025 |   0.000061 |  -0.000089\n",
      "16 |   1.732040 |   0.000031 |  -0.000036\n",
      "17 |   1.732048 |   0.000015 |  -0.000010\n",
      "Aproximadamente: 1.732048 é a raiz, com 17 iterações\n",
      "\n"
     ]
    }
   ],
   "source": [
    "#x**2 -3\n",
    "def f(x):\n",
    "    return x**2 - 3\n",
    "\n",
    "\n",
    "epsilon1 = 1e-5\n",
    "epsilon2 = 1e-5\n",
    "nMax = 100\n",
    "\n",
    "print(\"Método da Bisseção\")\n",
    "ak = 1.0 #extremo inferior, representa o a do intervalo [a,b]\n",
    "bk = 2.0 #extremo superior, representa o b do intervalo [a,b]\n",
    "k = 0\n",
    "xm = 0.5 * (ak + bk)\n",
    "\n",
    "print(\"k | xm | abs(bk-ak) | f(xm)\")\n",
    "while k < nMax and abs(bk - ak) > epsilon1 and abs(f(xm)) > epsilon2:\n",
    "    xm = 0.5 * (ak + bk)\n",
    "    k += 1\n",
    "    print(f\"{k:2d} | {xm:10.6f} | {abs(bk - ak):10.6f} | {f(xm):10.6f}\")\n",
    "    if f(ak) * f(xm) < 0:\n",
    "        bk = xm\n",
    "    else:\n",
    "        ak = xm\n",
    "print(f\"Aproximadamente: {xm:.6f} é a raiz, com {k} iterações\\n\")"
   ]
  },
  {
   "cell_type": "code",
   "execution_count": null,
   "id": "937c3b38",
   "metadata": {},
   "outputs": [],
   "source": []
  }
 ],
 "metadata": {
  "kernelspec": {
   "display_name": "Python 3",
   "language": "python",
   "name": "python3"
  },
  "language_info": {
   "codemirror_mode": {
    "name": "ipython",
    "version": 3
   },
   "file_extension": ".py",
   "mimetype": "text/x-python",
   "name": "python",
   "nbconvert_exporter": "python",
   "pygments_lexer": "ipython3",
   "version": "3.12.3"
  }
 },
 "nbformat": 4,
 "nbformat_minor": 5
}
